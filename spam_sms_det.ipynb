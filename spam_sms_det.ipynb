{
 "cells": [
  {
   "cell_type": "code",
   "execution_count": 1,
   "id": "854f7de3",
   "metadata": {},
   "outputs": [],
   "source": [
    "import pandas as pd\n",
    "from sklearn.feature_extraction.text import TfidfVectorizer\n",
    "from sklearn.model_selection import train_test_split\n",
    "from sklearn.linear_model import LogisticRegression\n",
    "from sklearn.metrics import accuracy_score, classification_report"
   ]
  },
  {
   "cell_type": "code",
   "execution_count": 2,
   "id": "2a356cc4",
   "metadata": {},
   "outputs": [],
   "source": [
    "# Load your dataset\n",
    "data_path = r'C:\\Users\\PRINTER WORLD\\Desktop\\spam.csv'\n",
    "\n",
    "try:\n",
    "    # Try reading the CSV file with a specified encoding\n",
    "    data = pd.read_csv(data_path, encoding='latin1')  # Change to 'iso-8859-1' or 'utf-16' if needed\n",
    "except FileNotFoundError:\n",
    "    print(f\"File not found at {data_path}. Please check the path.\")\n",
    "    exit()\n",
    "except UnicodeDecodeError as e:\n",
    "    print(f\"Unicode decode error: {e}\")\n",
    "    exit()"
   ]
  },
  {
   "cell_type": "code",
   "execution_count": 3,
   "id": "d3e8338f",
   "metadata": {},
   "outputs": [
    {
     "name": "stdout",
     "output_type": "stream",
     "text": [
      "Data preview:\n",
      "     v1                                                 v2 Unnamed: 2  \\\n",
      "0   ham  Go until jurong point, crazy.. Available only ...        NaN   \n",
      "1   ham                      Ok lar... Joking wif u oni...        NaN   \n",
      "2  spam  Free entry in 2 a wkly comp to win FA Cup fina...        NaN   \n",
      "3   ham  U dun say so early hor... U c already then say...        NaN   \n",
      "4   ham  Nah I don't think he goes to usf, he lives aro...        NaN   \n",
      "\n",
      "  Unnamed: 3 Unnamed: 4  \n",
      "0        NaN        NaN  \n",
      "1        NaN        NaN  \n",
      "2        NaN        NaN  \n",
      "3        NaN        NaN  \n",
      "4        NaN        NaN  \n",
      "Columns in the dataset: Index(['v1', 'v2', 'Unnamed: 2', 'Unnamed: 3', 'Unnamed: 4'], dtype='object')\n"
     ]
    }
   ],
   "source": [
    "# Check the data structure\n",
    "print(\"Data preview:\")\n",
    "print(data.head())\n",
    "print(\"Columns in the dataset:\", data.columns)"
   ]
  },
  {
   "cell_type": "code",
   "execution_count": 4,
   "id": "6074a5da",
   "metadata": {},
   "outputs": [],
   "source": [
    "# Rename columns to match expected names\n",
    "data.columns = ['Label', 'Message', 'Unnamed: 2', 'Unnamed: 3', 'Unnamed: 4']"
   ]
  },
  {
   "cell_type": "code",
   "execution_count": 5,
   "id": "264d9911",
   "metadata": {},
   "outputs": [],
   "source": [
    "# Prepare the data\n",
    "X = data['Message']  # SMS messages\n",
    "y = data['Label']    # Labels (spam or legitimate)"
   ]
  },
  {
   "cell_type": "code",
   "execution_count": 6,
   "id": "872a7da7",
   "metadata": {},
   "outputs": [],
   "source": [
    "# Check for missing values\n",
    "if X.isnull().any() or y.isnull().any():\n",
    "    print(\"There are missing values in the dataset.\")\n",
    "    exit()"
   ]
  },
  {
   "cell_type": "code",
   "execution_count": 7,
   "id": "1de3183b",
   "metadata": {},
   "outputs": [],
   "source": [
    "# Text vectorization with TF-IDF\n",
    "vectorizer = TfidfVectorizer(max_features=3000)  # Adjust max_features as needed\n",
    "X_tfidf = vectorizer.fit_transform(X)"
   ]
  },
  {
   "cell_type": "code",
   "execution_count": 8,
   "id": "0f571213",
   "metadata": {},
   "outputs": [],
   "source": [
    "# Split the data into training and validation sets\n",
    "X_train, X_val, y_train, y_val = train_test_split(X_tfidf, y, test_size=0.2, random_state=42)"
   ]
  },
  {
   "cell_type": "code",
   "execution_count": 9,
   "id": "55022d66",
   "metadata": {},
   "outputs": [],
   "source": [
    "# Choose and train a classifier\n",
    "model = LogisticRegression()\n",
    "\n",
    "try:\n",
    "    model.fit(X_train, y_train)\n",
    "except ValueError as e:\n",
    "    print(f\"Error during model fitting: {e}\")\n",
    "    exit()"
   ]
  },
  {
   "cell_type": "code",
   "execution_count": 10,
   "id": "2af5d024",
   "metadata": {},
   "outputs": [
    {
     "name": "stdout",
     "output_type": "stream",
     "text": [
      "Accuracy: 0.9632286995515695\n",
      "Classification Report:\n",
      "               precision    recall  f1-score   support\n",
      "\n",
      "         ham       0.96      1.00      0.98       965\n",
      "        spam       0.99      0.73      0.84       150\n",
      "\n",
      "    accuracy                           0.96      1115\n",
      "   macro avg       0.98      0.87      0.91      1115\n",
      "weighted avg       0.96      0.96      0.96      1115\n",
      "\n"
     ]
    }
   ],
   "source": [
    "# Predictions and evaluation\n",
    "y_pred = model.predict(X_val)\n",
    "print(\"Accuracy:\", accuracy_score(y_val, y_pred))\n",
    "print(\"Classification Report:\\n\", classification_report(y_val, y_pred))"
   ]
  }
 ],
 "metadata": {
  "kernelspec": {
   "display_name": "Python 3 (ipykernel)",
   "language": "python",
   "name": "python3"
  },
  "language_info": {
   "codemirror_mode": {
    "name": "ipython",
    "version": 3
   },
   "file_extension": ".py",
   "mimetype": "text/x-python",
   "name": "python",
   "nbconvert_exporter": "python",
   "pygments_lexer": "ipython3",
   "version": "3.11.5"
  }
 },
 "nbformat": 4,
 "nbformat_minor": 5
}
